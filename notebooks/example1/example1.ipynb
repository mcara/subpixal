{
 "cells": [
  {
   "cell_type": "markdown",
   "metadata": {},
   "source": [
    "# Aligning HST WFC3/IR Images Using `subpixal`"
   ]
  },
  {
   "cell_type": "markdown",
   "metadata": {},
   "source": [
    "***\n",
    "## About this Notebook\n",
    "**Author:** Mihai Cara, STScI\n",
    "<br>**Initial version on:** 12/27/2018\n",
    "<br>**Updated on:** 01/02/2018"
   ]
  },
  {
   "cell_type": "markdown",
   "metadata": {},
   "source": [
    "***\n",
    "## Introduction\n",
    "\n",
    "Often the World Coordinate System (WCS) of images may contain small errors. These alignment errors in the WCS of the images need to be removed before images can be further processed, e.g., before they can be combined into a mosaiced image. The images are said to be aligned (in a relative sense) _on the sky_ when image coordinates _of the same object_ (present in several images) can be converted aproximately the same sky coordinates (using appropriate image's WCS).\n",
    "\n",
    "In this notebook we illustrate how to set-up a simple workflow for aligning images using `subpixal` package designed for sub-pixel cross-correlation image alignment.\n",
    "\n",
    "<font color=red>**WARNING:** When working with real data, **BACKUP** ALL DATA before using `subpixal` as it modifies input data _in place_.</font>"
   ]
  },
  {
   "cell_type": "markdown",
   "metadata": {},
   "source": [
    "***\n",
    "## Imports"
   ]
  },
  {
   "cell_type": "code",
   "execution_count": null,
   "metadata": {},
   "outputs": [],
   "source": [
    "# import subpixal for image alignment\n",
    "from subpixal import align_images, Drizzle, SExImageCatalog\n",
    "\n",
    "# for image retrieval from archive:\n",
    "import os\n",
    "import glob\n",
    "import shutil\n",
    "from astroquery.mast import Observations\n",
    "from astropy import table\n",
    "\n",
    "# for plotting\n",
    "%matplotlib inline\n",
    "import matplotlib.pyplot as plt\n",
    "import matplotlib.colors as colors\n",
    "import numpy as np"
   ]
  },
  {
   "cell_type": "markdown",
   "metadata": {},
   "source": [
    "***\n",
    "# 1. Download Data\n",
    "\n",
    "For this example, we have chosen HST WFC3/IR observation of GRB-110328A in the F160W filter. The data come from the GO/DD proposal 12447 _\"The Nature of the Remarkable Transient GRB 110328A\"_ (PI: Andrew S. Fruchter).\n",
    "\n",
    "Data are downloaded using the `astroquery` API to access the [MAST](http://archive.stsci.edu) archive. The `astroquery.mast` [documentation](http://astroquery.readthedocs.io/en/latest/mast/mast.html) has more examples for how to find and download data from MAST."
   ]
  },
  {
   "cell_type": "code",
   "execution_count": null,
   "metadata": {},
   "outputs": [],
   "source": [
    "# If mastDownload directory already exists, delete it\n",
    "# and all subdirectories it contains:\n",
    "if os.path.isdir('mastDownload'):\n",
    "    shutil.rmtree('mastDownload')\n",
    "\n",
    "# Retrieve the observation information.\n",
    "obs_table1 = Observations.query_criteria(obs_id='ibof02*', filters='F160W', obstype='ALL')\n",
    "products1 = Observations.get_product_list(obs_table1)\n",
    "obs_table2 = Observations.query_criteria(obs_id='ibvwh2*', filters='F160W', obstype='ALL')\n",
    "products2 = Observations.get_product_list(obs_table2)\n",
    "products = table.vstack([products1, products2])\n",
    "\n",
    "Observations.download_products(products, mrp_only=False,\n",
    "                               productSubGroupDescription=['FLC', 'FLT'], \n",
    "                               extension='fits')\n",
    "\n",
    "def copy_mast_to_cwd():\n",
    "    \"\"\"\n",
    "    Move the files from the mastDownload directory to the current working\n",
    "    directory and make a backup of the files. Return a list of image file\n",
    "    names in the CWD.\n",
    "    \n",
    "    \"\"\"\n",
    "    downloaded_fits_files = (glob.glob('mastDownload/HST/ibof*/ibof*flt.fits') +\n",
    "                             glob.glob('mastDownload/HST/ibvwh*/ibvwh*flt.fits'))\n",
    "    fits_files = []\n",
    "    for fil in downloaded_fits_files:\n",
    "        base_name = os.path.basename(fil)\n",
    "        fits_files.append(base_name)\n",
    "        if os.path.isfile(base_name):\n",
    "            os.remove(base_name)\n",
    "        shutil.copy2(fil, '.')\n",
    "        \n",
    "    return fits_files\n",
    "\n",
    "flt_files = copy_mast_to_cwd();"
   ]
  },
  {
   "cell_type": "markdown",
   "metadata": {},
   "source": [
    "***\n",
    "# 2. [Optionally] Perform Initial Alignment Using `tweakreg`\n",
    "\n",
    "`subpixal` performs well when alignment errors are small. When mis-alignment is large, it is helpful to perform an initial alignmnet using some other method. In particular, when images contain several non-saturated stars, `tweakreg` can be used for initial alignment."
   ]
  },
  {
   "cell_type": "code",
   "execution_count": null,
   "metadata": {},
   "outputs": [],
   "source": [
    "from drizzlepac import tweakreg\n",
    "\n",
    "tweakreg.TweakReg(\n",
    "    ','.join(flt_files), \n",
    "    reusename=True,\n",
    "    conv_width=3.5, \n",
    "    #refimage='', \n",
    "    threshold=0.02, \n",
    "    minobj=5,\n",
    "    searchrad=5,\n",
    "    searchunits='pixel',\n",
    "    configobj=None, \n",
    "    interactive=False,\n",
    "    shiftfile=False, \n",
    "    updatehdr=True)"
   ]
  },
  {
   "cell_type": "markdown",
   "metadata": {},
   "source": [
    "***\n",
    "# 3. Create Drizzle object to run drizzle on a set of images"
   ]
  },
  {
   "cell_type": "code",
   "execution_count": null,
   "metadata": {},
   "outputs": [],
   "source": [
    "driz = Drizzle(input='ibof*_flt.fits,ibvw*_flt.fits',\n",
    "               build=False,\n",
    "               clean=False,\n",
    "               driz_cr_corr=True,\n",
    "               skystat='mean',\n",
    "               skylower=0,\n",
    "               skylsigma=2.0,\n",
    "               skyusigma=2.0,\n",
    "               stepsize=1,\n",
    "               driz_sep_kernel='square',\n",
    "               combine_type='imedian',\n",
    "               combine_nlow=2,\n",
    "               final_wcs=True, final_pixfrac=0.8,\n",
    "               final_scale=0.06666666,\n",
    "               final_refimage='')"
   ]
  },
  {
   "cell_type": "markdown",
   "metadata": {},
   "source": [
    "***\n",
    "# 4. Set-up Image Catalog Object"
   ]
  },
  {
   "cell_type": "markdown",
   "metadata": {},
   "source": [
    "Because we want to use `SExtractor` to find sources in images, we create a `SExImageCatalog` object and set-up appropriate filters. In this case, we want to exclude stars, faint sources, and very diffuse sources."
   ]
  },
  {
   "cell_type": "code",
   "execution_count": null,
   "metadata": {},
   "outputs": [],
   "source": [
    "cat = SExImageCatalog(None, 'sextractor.cfg', max_stellarity=0.7)\n",
    "cat.append_filters([('flux', '>', 20), ('pos_snr', '>', 80), ('fwhm', '>', 1), ('fwhm', '<', 8)])"
   ]
  },
  {
   "cell_type": "markdown",
   "metadata": {},
   "source": [
    "***\n",
    "# 5. Align Images"
   ]
  },
  {
   "cell_type": "code",
   "execution_count": null,
   "metadata": {
    "scrolled": true
   },
   "outputs": [],
   "source": [
    "fit_history = align_images(\n",
    "    cat,\n",
    "    driz,\n",
    "    wcslin=None,\n",
    "    fitgeom='general',\n",
    "    nclip=3,\n",
    "    sigma=2,\n",
    "    nmax=50,\n",
    "    eps_shift=1e-2,\n",
    "    iterative=False,\n",
    "    history='last'\n",
    ")"
   ]
  },
  {
   "cell_type": "markdown",
   "metadata": {},
   "source": [
    "***\n",
    "# 6. Display Cutouts of Sources Used For Alignment"
   ]
  },
  {
   "cell_type": "markdown",
   "metadata": {},
   "source": [
    "We can use the \"history\" returned by `align_images()` function to inspect what sources were used for fitting linear transformations and which sources were excluded (clipped out) from the fit. We will use `'jet'` colormap for the excluded sources and `'gray'` colormap for sources used in fitting.\n",
    "\n",
    "For each source we plot (horizontally) the following plots:\n",
    "- Cutout from the corresponding CR-cleaned image;\n",
    "- Cutout from the drizzled image;\n",
    "- Drizzled cutout blotted back into the CR-cleaned image's grid;\n",
    "- Supersampled cross-correlation images."
   ]
  },
  {
   "cell_type": "code",
   "execution_count": null,
   "metadata": {
    "scrolled": false
   },
   "outputs": [],
   "source": [
    "ii = fit_history[-1]['finfo'][0]['image_info']\n",
    "fit = fit_history[-1]['finfo'][0]['fit_info']\n",
    "\n",
    "def find_minmax(data):\n",
    "    return min(map(np.amin, data)), max(map(np.amax, data))\n",
    "\n",
    "nrows = len(ii['image_cutouts'])\n",
    "plt.figure(figsize=(5, nrows))\n",
    "mindata1, maxdata1 = find_minmax([i.data for i in ii['image_cutouts']])\n",
    "mindata2, maxdata2 = find_minmax(ii['ICC'])\n",
    "idx = list(fit['img_indx'])\n",
    "\n",
    "for k, (ict, dct, ic, blt) in enumerate(zip(ii['image_cutouts'], ii['driz_cutouts'], ii['ICC'],\n",
    "                                                ii['blotted_cutouts'])):\n",
    "    # plot excluded cutouts using 'jet' color map:\n",
    "    cm = plt.cm.gray if k in idx else plt.cm.jet\n",
    "\n",
    "    mindata1, maxdata1 = find_minmax([ict.data])\n",
    "    mindata2, maxdata2 = find_minmax([ic])\n",
    "\n",
    "    d1 = (ict.data - mindata1) / (maxdata1 - mindata1)\n",
    "    d2 = (dct.data - mindata1) / (maxdata1 - mindata1)\n",
    "    b00 = (blt.data - mindata1) / (maxdata1 - mindata1)\n",
    "    d3 = (ic - mindata2) / (maxdata2 - mindata2)\n",
    "\n",
    "    ax = plt.subplot(nrows, 4, 4 * k + 1); ax.axis('off')\n",
    "    ax.imshow(d1, cmap=cm, origin='lower', interpolation='none', aspect='equal');\n",
    "    ax.scatter([ict.cutout_src_pos[0]], [ict.cutout_src_pos[0]], marker='x')\n",
    "\n",
    "    ax = plt.subplot(nrows, 4, 4 * k + 2); ax.axis('off')\n",
    "    ax.imshow(d2, cmap=cm, origin='lower', interpolation='none', aspect='equal');\n",
    "    ax.scatter([dct.cutout_src_pos[0]], [dct.cutout_src_pos[0]], marker='x')\n",
    "\n",
    "    ax = plt.subplot(nrows, 4, 4 * k + 3); ax.axis('off')\n",
    "    ax.imshow(b00, cmap=cm, origin='lower', interpolation='none', aspect='equal');\n",
    "\n",
    "    ax = plt.subplot(nrows, 4, 4 * k + 4); ax.axis('off')\n",
    "    ax.imshow(d3, cmap=cm, origin='lower', interpolation='none', aspect='equal');"
   ]
  },
  {
   "cell_type": "code",
   "execution_count": null,
   "metadata": {},
   "outputs": [],
   "source": []
  }
 ],
 "metadata": {
  "kernelspec": {
   "display_name": "Python 3",
   "language": "python",
   "name": "python3"
  },
  "language_info": {
   "codemirror_mode": {
    "name": "ipython",
    "version": 3
   },
   "file_extension": ".py",
   "mimetype": "text/x-python",
   "name": "python",
   "nbconvert_exporter": "python",
   "pygments_lexer": "ipython3",
   "version": "3.6.7"
  }
 },
 "nbformat": 4,
 "nbformat_minor": 2
}
